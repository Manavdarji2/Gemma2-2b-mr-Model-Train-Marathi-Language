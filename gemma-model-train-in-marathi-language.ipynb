{
 "cells": [
  {
   "cell_type": "markdown",
   "id": "865c088e",
   "metadata": {
    "papermill": {
     "duration": 0.005028,
     "end_time": "2024-12-08T18:26:53.186704",
     "exception": false,
     "start_time": "2024-12-08T18:26:53.181676",
     "status": "completed"
    },
    "tags": []
   },
   "source": [
    "### 1. Install Required Libraries\n",
    "You can use the following command to install all necessary libraries:\n",
    "\n",
    "```python\n",
    "    ! pip install transformers keras keras-nlp spacy nltk pandas tensorflow\n",
    "```\n",
    "\n",
    "### 2. Explanation of Each Library\n",
    "Here’s a breakdown of why each library is important for your training task:\n",
    "\n",
    "- **`keras`**: \n",
    "  - **Purpose**: This library is widely used for building and training neural network models, particularly high-level model creation, data processing, and training loops.\n",
    "  - **Relevance**: `Gemma2_2b` can leverage `keras` for neural network architecture and training processes.\n",
    "\n",
    "- **`keras-nlp`**:\n",
    "  - **Purpose**: It is an NLP-focused library that extends `keras` with tools for text processing, tokenization, sequence modeling, and transformers.\n",
    "  - **Relevance**: `keras-nlp` provides specific tools for text processing, making it easier to preprocess Marathi data for language models.\n",
    "\n",
    "- **`transformers`**: (`But I will use the keras to download the model and work on it`)\n",
    "  - **Purpose**: From Hugging Face, this library provides pre-trained language models, tokenizers, and the infrastructure for fine-tuning models for specific NLP tasks.\n",
    "  - **Relevance**: If `Gemma_2b` uses transformer-based architecture, you can utilize `transformers` for tokenization and transformer model layers.\n",
    "\n",
    "- **`spacy`**:\n",
    "  - **Purpose**: This NLP library is useful for advanced text preprocessing, including tokenization, POS tagging, and custom language model handling.\n",
    "  - **Relevance**: `spacy` supports many languages and allows you to add Marathi-specific custom pipelines. You can use it for initial Marathi text tokenization and NLP preprocessing.\n",
    "\n",
    "- **`nltk`**:\n",
    "  - **Purpose**: The Natural Language Toolkit (NLTK) offers a wide range of text processing libraries and utilities, especially for tokenization, stemming, and lexical resources.\n",
    "  - **Relevance**: NLTK can be used for basic text processing tasks on Marathi text, such as tokenization and cleaning, and is particularly useful if you need additional preprocessing.\n",
    "\n",
    "- **`pandas`**:\n",
    "  - **Purpose**: For data manipulation, cleaning, and structuring, `pandas` is crucial for handling datasets and dataframes.\n",
    "  - **Relevance**: Use `pandas` to load, preprocess, and batch your Marathi data, making it easy to integrate into the training pipeline.\n",
    "\n",
    "- **`tensorflow`**:\n",
    "  - **Purpose**: As a deep learning framework, `tensorflow` provides core functionalities for model training, custom layers, and model optimization.\n",
    "  - **Relevance**: Since `keras` is integrated with `tensorflow`, you’ll use it for low-level operations, custom training functions, and GPU/TPU acceleration, which is essential for efficient training of large models like `Gemma_2b`.\n",
    "\n",
    "### Next Steps for Training `Gemma_2b` in Marathi\n",
    "Once the libraries are installed:\n",
    "1. **Preprocess Marathi Text**: Use `spacy` and `nltk` to tokenize and clean Marathi text data.\n",
    "2. **Load and Structure Data**: Use `pandas` to organize and structure the data, loading it into appropriate formats for model training.\n",
    "3. **Model Initialization**: Initialize the `Gemma_2b` model with `keras` and `tensorflow`.\n",
    "4. **Training and Evaluation**: Use `keras` and `tensorflow` for training, `keras-nlp` for NLP utilities, and consider utilizing `transformers` if Gemma_2b relies on transformer-based layers or architectures.\n"
   ]
  },
  {
   "cell_type": "code",
   "execution_count": 1,
   "id": "ae0bfa1e",
   "metadata": {
    "execution": {
     "iopub.execute_input": "2024-12-08T18:26:53.197438Z",
     "iopub.status.busy": "2024-12-08T18:26:53.196683Z",
     "iopub.status.idle": "2024-12-08T18:27:34.242184Z",
     "shell.execute_reply": "2024-12-08T18:27:34.241302Z"
    },
    "papermill": {
     "duration": 41.052903,
     "end_time": "2024-12-08T18:27:34.244339",
     "exception": false,
     "start_time": "2024-12-08T18:26:53.191436",
     "status": "completed"
    },
    "tags": []
   },
   "outputs": [
    {
     "name": "stdout",
     "output_type": "stream",
     "text": [
      "Requirement already satisfied: keras in /opt/conda/lib/python3.10/site-packages (3.3.3)\r\n",
      "Requirement already satisfied: keras-nlp in /opt/conda/lib/python3.10/site-packages (0.15.1)\r\n",
      "Requirement already satisfied: tensorflow in /opt/conda/lib/python3.10/site-packages (2.16.1)\r\n",
      "Requirement already satisfied: Pandas in /opt/conda/lib/python3.10/site-packages (2.2.2)\r\n",
      "Requirement already satisfied: absl-py in /opt/conda/lib/python3.10/site-packages (from keras) (1.4.0)\r\n",
      "Requirement already satisfied: numpy in /opt/conda/lib/python3.10/site-packages (from keras) (1.26.4)\r\n",
      "Requirement already satisfied: rich in /opt/conda/lib/python3.10/site-packages (from keras) (13.7.1)\r\n",
      "Requirement already satisfied: namex in /opt/conda/lib/python3.10/site-packages (from keras) (0.0.8)\r\n",
      "Requirement already satisfied: h5py in /opt/conda/lib/python3.10/site-packages (from keras) (3.11.0)\r\n",
      "Requirement already satisfied: optree in /opt/conda/lib/python3.10/site-packages (from keras) (0.11.0)\r\n",
      "Requirement already satisfied: ml-dtypes in /opt/conda/lib/python3.10/site-packages (from keras) (0.3.2)\r\n",
      "Requirement already satisfied: packaging in /opt/conda/lib/python3.10/site-packages (from keras-nlp) (21.3)\r\n",
      "Requirement already satisfied: regex in /opt/conda/lib/python3.10/site-packages (from keras-nlp) (2024.5.15)\r\n",
      "Requirement already satisfied: kagglehub in /opt/conda/lib/python3.10/site-packages (from keras-nlp) (0.3.1)\r\n",
      "Requirement already satisfied: tensorflow-text in /opt/conda/lib/python3.10/site-packages (from keras-nlp) (2.16.1)\r\n",
      "Requirement already satisfied: astunparse>=1.6.0 in /opt/conda/lib/python3.10/site-packages (from tensorflow) (1.6.3)\r\n",
      "Requirement already satisfied: flatbuffers>=23.5.26 in /opt/conda/lib/python3.10/site-packages (from tensorflow) (24.3.25)\r\n",
      "Requirement already satisfied: gast!=0.5.0,!=0.5.1,!=0.5.2,>=0.2.1 in /opt/conda/lib/python3.10/site-packages (from tensorflow) (0.5.4)\r\n",
      "Requirement already satisfied: google-pasta>=0.1.1 in /opt/conda/lib/python3.10/site-packages (from tensorflow) (0.2.0)\r\n",
      "Requirement already satisfied: libclang>=13.0.0 in /opt/conda/lib/python3.10/site-packages (from tensorflow) (18.1.1)\r\n",
      "Requirement already satisfied: opt-einsum>=2.3.2 in /opt/conda/lib/python3.10/site-packages (from tensorflow) (3.3.0)\r\n",
      "Requirement already satisfied: protobuf!=4.21.0,!=4.21.1,!=4.21.2,!=4.21.3,!=4.21.4,!=4.21.5,<5.0.0dev,>=3.20.3 in /opt/conda/lib/python3.10/site-packages (from tensorflow) (3.20.3)\r\n",
      "Requirement already satisfied: requests<3,>=2.21.0 in /opt/conda/lib/python3.10/site-packages (from tensorflow) (2.32.3)\r\n",
      "Requirement already satisfied: setuptools in /opt/conda/lib/python3.10/site-packages (from tensorflow) (70.0.0)\r\n",
      "Requirement already satisfied: six>=1.12.0 in /opt/conda/lib/python3.10/site-packages (from tensorflow) (1.16.0)\r\n",
      "Requirement already satisfied: termcolor>=1.1.0 in /opt/conda/lib/python3.10/site-packages (from tensorflow) (2.4.0)\r\n",
      "Requirement already satisfied: typing-extensions>=3.6.6 in /opt/conda/lib/python3.10/site-packages (from tensorflow) (4.12.2)\r\n",
      "Requirement already satisfied: wrapt>=1.11.0 in /opt/conda/lib/python3.10/site-packages (from tensorflow) (1.16.0)\r\n",
      "Requirement already satisfied: grpcio<2.0,>=1.24.3 in /opt/conda/lib/python3.10/site-packages (from tensorflow) (1.62.2)\r\n",
      "Requirement already satisfied: tensorboard<2.17,>=2.16 in /opt/conda/lib/python3.10/site-packages (from tensorflow) (2.16.2)\r\n",
      "Requirement already satisfied: tensorflow-io-gcs-filesystem>=0.23.1 in /opt/conda/lib/python3.10/site-packages (from tensorflow) (0.37.0)\r\n",
      "Requirement already satisfied: python-dateutil>=2.8.2 in /opt/conda/lib/python3.10/site-packages (from Pandas) (2.9.0.post0)\r\n",
      "Requirement already satisfied: pytz>=2020.1 in /opt/conda/lib/python3.10/site-packages (from Pandas) (2024.1)\r\n",
      "Requirement already satisfied: tzdata>=2022.7 in /opt/conda/lib/python3.10/site-packages (from Pandas) (2024.1)\r\n",
      "Requirement already satisfied: wheel<1.0,>=0.23.0 in /opt/conda/lib/python3.10/site-packages (from astunparse>=1.6.0->tensorflow) (0.43.0)\r\n",
      "Requirement already satisfied: charset-normalizer<4,>=2 in /opt/conda/lib/python3.10/site-packages (from requests<3,>=2.21.0->tensorflow) (3.3.2)\r\n",
      "Requirement already satisfied: idna<4,>=2.5 in /opt/conda/lib/python3.10/site-packages (from requests<3,>=2.21.0->tensorflow) (3.7)\r\n",
      "Requirement already satisfied: urllib3<3,>=1.21.1 in /opt/conda/lib/python3.10/site-packages (from requests<3,>=2.21.0->tensorflow) (1.26.18)\r\n",
      "Requirement already satisfied: certifi>=2017.4.17 in /opt/conda/lib/python3.10/site-packages (from requests<3,>=2.21.0->tensorflow) (2024.8.30)\r\n",
      "Requirement already satisfied: markdown>=2.6.8 in /opt/conda/lib/python3.10/site-packages (from tensorboard<2.17,>=2.16->tensorflow) (3.6)\r\n",
      "Requirement already satisfied: tensorboard-data-server<0.8.0,>=0.7.0 in /opt/conda/lib/python3.10/site-packages (from tensorboard<2.17,>=2.16->tensorflow) (0.7.2)\r\n",
      "Requirement already satisfied: werkzeug>=1.0.1 in /opt/conda/lib/python3.10/site-packages (from tensorboard<2.17,>=2.16->tensorflow) (3.0.4)\r\n",
      "Requirement already satisfied: tqdm in /opt/conda/lib/python3.10/site-packages (from kagglehub->keras-nlp) (4.66.4)\r\n",
      "Requirement already satisfied: pyparsing!=3.0.5,>=2.0.2 in /opt/conda/lib/python3.10/site-packages (from packaging->keras-nlp) (3.1.2)\r\n",
      "Requirement already satisfied: markdown-it-py>=2.2.0 in /opt/conda/lib/python3.10/site-packages (from rich->keras) (3.0.0)\r\n",
      "Requirement already satisfied: pygments<3.0.0,>=2.13.0 in /opt/conda/lib/python3.10/site-packages (from rich->keras) (2.18.0)\r\n",
      "Requirement already satisfied: mdurl~=0.1 in /opt/conda/lib/python3.10/site-packages (from markdown-it-py>=2.2.0->rich->keras) (0.1.2)\r\n",
      "Requirement already satisfied: MarkupSafe>=2.1.1 in /opt/conda/lib/python3.10/site-packages (from werkzeug>=1.0.1->tensorboard<2.17,>=2.16->tensorflow) (2.1.5)\r\n"
     ]
    }
   ],
   "source": [
    "! pip install keras keras-nlp tensorflow Pandas # spacy nltk transformers"
   ]
  },
  {
   "cell_type": "code",
   "execution_count": 2,
   "id": "fd2500fc",
   "metadata": {
    "execution": {
     "iopub.execute_input": "2024-12-08T18:27:34.256677Z",
     "iopub.status.busy": "2024-12-08T18:27:34.256375Z",
     "iopub.status.idle": "2024-12-08T18:34:53.625909Z",
     "shell.execute_reply": "2024-12-08T18:34:53.624785Z"
    },
    "papermill": {
     "duration": 439.378433,
     "end_time": "2024-12-08T18:34:53.628055",
     "exception": false,
     "start_time": "2024-12-08T18:27:34.249622",
     "status": "completed"
    },
    "tags": []
   },
   "outputs": [
    {
     "name": "stdout",
     "output_type": "stream",
     "text": [
      "\u001b[33mWARNING: Retrying (Retry(total=4, connect=None, read=None, redirect=None, status=None)) after connection broken by 'NewConnectionError('<pip._vendor.urllib3.connection.HTTPSConnection object at 0x7d342c383f70>: Failed to establish a new connection: [Errno -3] Temporary failure in name resolution')': /simple/keras/\u001b[0m\u001b[33m\r\n",
      "\u001b[0m\u001b[33mWARNING: Retrying (Retry(total=3, connect=None, read=None, redirect=None, status=None)) after connection broken by 'NewConnectionError('<pip._vendor.urllib3.connection.HTTPSConnection object at 0x7d342c3a8160>: Failed to establish a new connection: [Errno -3] Temporary failure in name resolution')': /simple/keras/\u001b[0m\u001b[33m\r\n",
      "\u001b[0m\u001b[33mWARNING: Retrying (Retry(total=2, connect=None, read=None, redirect=None, status=None)) after connection broken by 'NewConnectionError('<pip._vendor.urllib3.connection.HTTPSConnection object at 0x7d342c3a8550>: Failed to establish a new connection: [Errno -3] Temporary failure in name resolution')': /simple/keras/\u001b[0m\u001b[33m\r\n",
      "\u001b[0m\u001b[33mWARNING: Retrying (Retry(total=1, connect=None, read=None, redirect=None, status=None)) after connection broken by 'NewConnectionError('<pip._vendor.urllib3.connection.HTTPSConnection object at 0x7d342c3a8700>: Failed to establish a new connection: [Errno -3] Temporary failure in name resolution')': /simple/keras/\u001b[0m\u001b[33m\r\n",
      "\u001b[0m\u001b[33mWARNING: Retrying (Retry(total=0, connect=None, read=None, redirect=None, status=None)) after connection broken by 'NewConnectionError('<pip._vendor.urllib3.connection.HTTPSConnection object at 0x7d342c3a88b0>: Failed to establish a new connection: [Errno -3] Temporary failure in name resolution')': /simple/keras/\u001b[0m\u001b[33m\r\n",
      "\u001b[0m\u001b[33mWARNING: Retrying (Retry(total=4, connect=None, read=None, redirect=None, status=None)) after connection broken by 'NewConnectionError('<pip._vendor.urllib3.connection.HTTPSConnection object at 0x7d342c3fce50>: Failed to establish a new connection: [Errno -3] Temporary failure in name resolution')': /simple/keras-nlp/\u001b[0m\u001b[33m\r\n",
      "\u001b[0m\u001b[33mWARNING: Retrying (Retry(total=3, connect=None, read=None, redirect=None, status=None)) after connection broken by 'NewConnectionError('<pip._vendor.urllib3.connection.HTTPSConnection object at 0x7d342c3fd0f0>: Failed to establish a new connection: [Errno -3] Temporary failure in name resolution')': /simple/keras-nlp/\u001b[0m\u001b[33m\r\n",
      "\u001b[0m\u001b[33mWARNING: Retrying (Retry(total=2, connect=None, read=None, redirect=None, status=None)) after connection broken by 'NewConnectionError('<pip._vendor.urllib3.connection.HTTPSConnection object at 0x7d342c3fd2a0>: Failed to establish a new connection: [Errno -3] Temporary failure in name resolution')': /simple/keras-nlp/\u001b[0m\u001b[33m\r\n",
      "\u001b[0m\u001b[33mWARNING: Retrying (Retry(total=1, connect=None, read=None, redirect=None, status=None)) after connection broken by 'NewConnectionError('<pip._vendor.urllib3.connection.HTTPSConnection object at 0x7d342c3fd450>: Failed to establish a new connection: [Errno -3] Temporary failure in name resolution')': /simple/keras-nlp/\u001b[0m\u001b[33m\r\n",
      "\u001b[0m\u001b[33mWARNING: Retrying (Retry(total=0, connect=None, read=None, redirect=None, status=None)) after connection broken by 'NewConnectionError('<pip._vendor.urllib3.connection.HTTPSConnection object at 0x7d342c3fd600>: Failed to establish a new connection: [Errno -3] Temporary failure in name resolution')': /simple/keras-nlp/\u001b[0m\u001b[33m\r\n",
      "\u001b[0m"
     ]
    }
   ],
   "source": [
    "!pip install -q -U keras keras-nlp"
   ]
  },
  {
   "cell_type": "markdown",
   "id": "e9d7d997",
   "metadata": {
    "papermill": {
     "duration": 0.005026,
     "end_time": "2024-12-08T18:34:53.638513",
     "exception": false,
     "start_time": "2024-12-08T18:34:53.633487",
     "status": "completed"
    },
    "tags": []
   },
   "source": [
    "1. **Environment Setup**:\n",
    "   - This code configures the environment to use TensorFlow as the backend for Keras and allows the XLA Python client to use the full GPU memory. This can help optimize the performance of Gemma model.\n",
    "\n",
    "2. **Marathi Language Dataset**:\n",
    "   - Prepare or obtain a Marathi language dataset for fine-tuning. You may look for datasets like CC100 Marathi, IndicCorp, or any custom dataset with Marathi text.\n",
    "\n",
    "3. **Preprocessing**:\n",
    "   - Tokenize Marathi text using a tokenizer compatible with the Gemma_2b architecture, which might involve custom preprocessing if Marathi is unsupported by default.\n",
    "   - Remove unnecessary symbols, normalize text, and ensure your tokenizer can handle Marathi script.\n",
    "\n",
    "4. **Model Training Configuration**:\n",
    "   - **Hyperparameters**: Define hyperparameters based on your grid search strategy, such as learning rate, batch size, and number of epochs.\n",
    "   - **Training Framework**: Use a framework that supports transformers and efficient GPU utilization for training (e.g., PyTorch Lightning, Hugging Face Trainer API).\n",
    "   \n",
    "5. **Evaluation and Validation**:\n",
    "   - Create a Marathi language validation set to monitor performance metrics.\n",
    "   - Regularly evaluate metrics such as loss, accuracy, and perplexity during training and tune hyperparameters as necessary.\n",
    "\n",
    "6. **Saving and Deployment**:\n",
    "   - Save the trained model checkpoints periodically and consider post-processing for deployment, especially if it will be used for inference in Marathi."
   ]
  },
  {
   "cell_type": "code",
   "execution_count": 3,
   "id": "d9d40b83",
   "metadata": {
    "execution": {
     "iopub.execute_input": "2024-12-08T18:34:53.649928Z",
     "iopub.status.busy": "2024-12-08T18:34:53.649606Z",
     "iopub.status.idle": "2024-12-08T18:34:53.653934Z",
     "shell.execute_reply": "2024-12-08T18:34:53.653216Z"
    },
    "papermill": {
     "duration": 0.012162,
     "end_time": "2024-12-08T18:34:53.655583",
     "exception": false,
     "start_time": "2024-12-08T18:34:53.643421",
     "status": "completed"
    },
    "tags": []
   },
   "outputs": [],
   "source": [
    "import os\n",
    "os.environ[\"KERAS_BACKEND\"] = \"tensorflow\"\n",
    "os.environ[\"XLA_PYTHON_CLIENT_MEM_FRACTION\"] = \"1.00\""
   ]
  },
  {
   "cell_type": "markdown",
   "id": "c3aa4c47",
   "metadata": {
    "papermill": {
     "duration": 0.004726,
     "end_time": "2024-12-08T18:34:53.665599",
     "exception": false,
     "start_time": "2024-12-08T18:34:53.660873",
     "status": "completed"
    },
    "tags": []
   },
   "source": [
    "these lines of code are used to install and enable interactive widgets in Jupyter notebooks and configure PyTorch to manage GPU memory more efficiently."
   ]
  },
  {
   "cell_type": "code",
   "execution_count": 4,
   "id": "b3881ea2",
   "metadata": {
    "execution": {
     "iopub.execute_input": "2024-12-08T18:34:53.676505Z",
     "iopub.status.busy": "2024-12-08T18:34:53.676224Z",
     "iopub.status.idle": "2024-12-08T18:38:56.028965Z",
     "shell.execute_reply": "2024-12-08T18:38:56.027748Z"
    },
    "papermill": {
     "duration": 242.360476,
     "end_time": "2024-12-08T18:38:56.031009",
     "exception": false,
     "start_time": "2024-12-08T18:34:53.670533",
     "status": "completed"
    },
    "tags": []
   },
   "outputs": [
    {
     "name": "stdout",
     "output_type": "stream",
     "text": [
      "Requirement already satisfied: ipywidgets in /opt/conda/lib/python3.10/site-packages (7.7.1)\r\n",
      "\u001b[33mWARNING: Retrying (Retry(total=4, connect=None, read=None, redirect=None, status=None)) after connection broken by 'NewConnectionError('<pip._vendor.urllib3.connection.HTTPSConnection object at 0x7e183d8c3fa0>: Failed to establish a new connection: [Errno -3] Temporary failure in name resolution')': /simple/ipywidgets/\u001b[0m\u001b[33m\r\n",
      "\u001b[0m\u001b[33mWARNING: Retrying (Retry(total=3, connect=None, read=None, redirect=None, status=None)) after connection broken by 'NewConnectionError('<pip._vendor.urllib3.connection.HTTPSConnection object at 0x7e183d8f02e0>: Failed to establish a new connection: [Errno -3] Temporary failure in name resolution')': /simple/ipywidgets/\u001b[0m\u001b[33m\r\n",
      "\u001b[0m\u001b[33mWARNING: Retrying (Retry(total=2, connect=None, read=None, redirect=None, status=None)) after connection broken by 'NewConnectionError('<pip._vendor.urllib3.connection.HTTPSConnection object at 0x7e183d8f0490>: Failed to establish a new connection: [Errno -3] Temporary failure in name resolution')': /simple/ipywidgets/\u001b[0m\u001b[33m\r\n",
      "\u001b[0m\u001b[33mWARNING: Retrying (Retry(total=1, connect=None, read=None, redirect=None, status=None)) after connection broken by 'NewConnectionError('<pip._vendor.urllib3.connection.HTTPSConnection object at 0x7e183d8f0640>: Failed to establish a new connection: [Errno -3] Temporary failure in name resolution')': /simple/ipywidgets/\u001b[0m\u001b[33m\r\n",
      "\u001b[0m\u001b[33mWARNING: Retrying (Retry(total=0, connect=None, read=None, redirect=None, status=None)) after connection broken by 'NewConnectionError('<pip._vendor.urllib3.connection.HTTPSConnection object at 0x7e183d8f07f0>: Failed to establish a new connection: [Errno -3] Temporary failure in name resolution')': /simple/ipywidgets/\u001b[0m\u001b[33m\r\n",
      "\u001b[0mRequirement already satisfied: ipykernel>=4.5.1 in /opt/conda/lib/python3.10/site-packages (from ipywidgets) (6.29.4)\r\n",
      "Requirement already satisfied: ipython-genutils~=0.2.0 in /opt/conda/lib/python3.10/site-packages (from ipywidgets) (0.2.0)\r\n",
      "Requirement already satisfied: traitlets>=4.3.1 in /opt/conda/lib/python3.10/site-packages (from ipywidgets) (5.14.3)\r\n",
      "Requirement already satisfied: widgetsnbextension~=3.6.0 in /opt/conda/lib/python3.10/site-packages (from ipywidgets) (3.6.9)\r\n",
      "Requirement already satisfied: ipython>=4.0.0 in /opt/conda/lib/python3.10/site-packages (from ipywidgets) (8.21.0)\r\n",
      "Requirement already satisfied: jupyterlab-widgets>=1.0.0 in /opt/conda/lib/python3.10/site-packages (from ipywidgets) (3.0.11)\r\n",
      "Requirement already satisfied: comm>=0.1.1 in /opt/conda/lib/python3.10/site-packages (from ipykernel>=4.5.1->ipywidgets) (0.2.2)\r\n",
      "Requirement already satisfied: debugpy>=1.6.5 in /opt/conda/lib/python3.10/site-packages (from ipykernel>=4.5.1->ipywidgets) (1.8.1)\r\n",
      "Requirement already satisfied: jupyter-client>=6.1.12 in /opt/conda/lib/python3.10/site-packages (from ipykernel>=4.5.1->ipywidgets) (7.4.9)\r\n",
      "Requirement already satisfied: jupyter-core!=5.0.*,>=4.12 in /opt/conda/lib/python3.10/site-packages (from ipykernel>=4.5.1->ipywidgets) (5.7.2)\r\n",
      "Requirement already satisfied: matplotlib-inline>=0.1 in /opt/conda/lib/python3.10/site-packages (from ipykernel>=4.5.1->ipywidgets) (0.1.7)\r\n",
      "Requirement already satisfied: nest-asyncio in /opt/conda/lib/python3.10/site-packages (from ipykernel>=4.5.1->ipywidgets) (1.6.0)\r\n",
      "Requirement already satisfied: packaging in /opt/conda/lib/python3.10/site-packages (from ipykernel>=4.5.1->ipywidgets) (21.3)\r\n",
      "Requirement already satisfied: psutil in /opt/conda/lib/python3.10/site-packages (from ipykernel>=4.5.1->ipywidgets) (5.9.3)\r\n",
      "Requirement already satisfied: pyzmq>=24 in /opt/conda/lib/python3.10/site-packages (from ipykernel>=4.5.1->ipywidgets) (26.0.3)\r\n",
      "Requirement already satisfied: tornado>=6.1 in /opt/conda/lib/python3.10/site-packages (from ipykernel>=4.5.1->ipywidgets) (6.4.1)\r\n",
      "Requirement already satisfied: decorator in /opt/conda/lib/python3.10/site-packages (from ipython>=4.0.0->ipywidgets) (5.1.1)\r\n",
      "Requirement already satisfied: jedi>=0.16 in /opt/conda/lib/python3.10/site-packages (from ipython>=4.0.0->ipywidgets) (0.19.1)\r\n",
      "Requirement already satisfied: prompt-toolkit<3.1.0,>=3.0.41 in /opt/conda/lib/python3.10/site-packages (from ipython>=4.0.0->ipywidgets) (3.0.47)\r\n",
      "Requirement already satisfied: pygments>=2.4.0 in /opt/conda/lib/python3.10/site-packages (from ipython>=4.0.0->ipywidgets) (2.18.0)\r\n",
      "Requirement already satisfied: stack-data in /opt/conda/lib/python3.10/site-packages (from ipython>=4.0.0->ipywidgets) (0.6.2)\r\n",
      "Requirement already satisfied: exceptiongroup in /opt/conda/lib/python3.10/site-packages (from ipython>=4.0.0->ipywidgets) (1.2.0)\r\n",
      "Requirement already satisfied: pexpect>4.3 in /opt/conda/lib/python3.10/site-packages (from ipython>=4.0.0->ipywidgets) (4.9.0)\r\n",
      "Requirement already satisfied: notebook>=4.4.1 in /opt/conda/lib/python3.10/site-packages (from widgetsnbextension~=3.6.0->ipywidgets) (6.5.7)\r\n",
      "Requirement already satisfied: parso<0.9.0,>=0.8.3 in /opt/conda/lib/python3.10/site-packages (from jedi>=0.16->ipython>=4.0.0->ipywidgets) (0.8.4)\r\n",
      "Requirement already satisfied: entrypoints in /opt/conda/lib/python3.10/site-packages (from jupyter-client>=6.1.12->ipykernel>=4.5.1->ipywidgets) (0.4)\r\n",
      "Requirement already satisfied: python-dateutil>=2.8.2 in /opt/conda/lib/python3.10/site-packages (from jupyter-client>=6.1.12->ipykernel>=4.5.1->ipywidgets) (2.9.0.post0)\r\n",
      "Requirement already satisfied: platformdirs>=2.5 in /opt/conda/lib/python3.10/site-packages (from jupyter-core!=5.0.*,>=4.12->ipykernel>=4.5.1->ipywidgets) (3.11.0)\r\n",
      "Requirement already satisfied: jinja2 in /opt/conda/lib/python3.10/site-packages (from notebook>=4.4.1->widgetsnbextension~=3.6.0->ipywidgets) (3.1.4)\r\n",
      "Requirement already satisfied: argon2-cffi in /opt/conda/lib/python3.10/site-packages (from notebook>=4.4.1->widgetsnbextension~=3.6.0->ipywidgets) (23.1.0)\r\n",
      "Requirement already satisfied: nbformat in /opt/conda/lib/python3.10/site-packages (from notebook>=4.4.1->widgetsnbextension~=3.6.0->ipywidgets) (5.10.4)\r\n",
      "Requirement already satisfied: nbconvert>=5 in /opt/conda/lib/python3.10/site-packages (from notebook>=4.4.1->widgetsnbextension~=3.6.0->ipywidgets) (6.4.5)\r\n",
      "Requirement already satisfied: Send2Trash>=1.8.0 in /opt/conda/lib/python3.10/site-packages (from notebook>=4.4.1->widgetsnbextension~=3.6.0->ipywidgets) (1.8.3)\r\n",
      "Requirement already satisfied: terminado>=0.8.3 in /opt/conda/lib/python3.10/site-packages (from notebook>=4.4.1->widgetsnbextension~=3.6.0->ipywidgets) (0.18.1)\r\n",
      "Requirement already satisfied: prometheus-client in /opt/conda/lib/python3.10/site-packages (from notebook>=4.4.1->widgetsnbextension~=3.6.0->ipywidgets) (0.20.0)\r\n",
      "Requirement already satisfied: nbclassic>=0.4.7 in /opt/conda/lib/python3.10/site-packages (from notebook>=4.4.1->widgetsnbextension~=3.6.0->ipywidgets) (1.1.0)\r\n",
      "Requirement already satisfied: ptyprocess>=0.5 in /opt/conda/lib/python3.10/site-packages (from pexpect>4.3->ipython>=4.0.0->ipywidgets) (0.7.0)\r\n",
      "Requirement already satisfied: wcwidth in /opt/conda/lib/python3.10/site-packages (from prompt-toolkit<3.1.0,>=3.0.41->ipython>=4.0.0->ipywidgets) (0.2.13)\r\n",
      "Requirement already satisfied: pyparsing!=3.0.5,>=2.0.2 in /opt/conda/lib/python3.10/site-packages (from packaging->ipykernel>=4.5.1->ipywidgets) (3.1.2)\r\n",
      "Requirement already satisfied: executing>=1.2.0 in /opt/conda/lib/python3.10/site-packages (from stack-data->ipython>=4.0.0->ipywidgets) (2.0.1)\r\n",
      "Requirement already satisfied: asttokens>=2.1.0 in /opt/conda/lib/python3.10/site-packages (from stack-data->ipython>=4.0.0->ipywidgets) (2.4.1)\r\n",
      "Requirement already satisfied: pure-eval in /opt/conda/lib/python3.10/site-packages (from stack-data->ipython>=4.0.0->ipywidgets) (0.2.2)\r\n",
      "Requirement already satisfied: six>=1.12.0 in /opt/conda/lib/python3.10/site-packages (from asttokens>=2.1.0->stack-data->ipython>=4.0.0->ipywidgets) (1.16.0)\r\n",
      "Requirement already satisfied: notebook-shim>=0.2.3 in /opt/conda/lib/python3.10/site-packages (from nbclassic>=0.4.7->notebook>=4.4.1->widgetsnbextension~=3.6.0->ipywidgets) (0.2.4)\r\n",
      "Requirement already satisfied: mistune<2,>=0.8.1 in /opt/conda/lib/python3.10/site-packages (from nbconvert>=5->notebook>=4.4.1->widgetsnbextension~=3.6.0->ipywidgets) (0.8.4)\r\n",
      "Requirement already satisfied: jupyterlab-pygments in /opt/conda/lib/python3.10/site-packages (from nbconvert>=5->notebook>=4.4.1->widgetsnbextension~=3.6.0->ipywidgets) (0.3.0)\r\n",
      "Requirement already satisfied: bleach in /opt/conda/lib/python3.10/site-packages (from nbconvert>=5->notebook>=4.4.1->widgetsnbextension~=3.6.0->ipywidgets) (6.1.0)\r\n",
      "Requirement already satisfied: pandocfilters>=1.4.1 in /opt/conda/lib/python3.10/site-packages (from nbconvert>=5->notebook>=4.4.1->widgetsnbextension~=3.6.0->ipywidgets) (1.5.0)\r\n",
      "Requirement already satisfied: testpath in /opt/conda/lib/python3.10/site-packages (from nbconvert>=5->notebook>=4.4.1->widgetsnbextension~=3.6.0->ipywidgets) (0.6.0)\r\n",
      "Requirement already satisfied: defusedxml in /opt/conda/lib/python3.10/site-packages (from nbconvert>=5->notebook>=4.4.1->widgetsnbextension~=3.6.0->ipywidgets) (0.7.1)\r\n",
      "Requirement already satisfied: beautifulsoup4 in /opt/conda/lib/python3.10/site-packages (from nbconvert>=5->notebook>=4.4.1->widgetsnbextension~=3.6.0->ipywidgets) (4.12.3)\r\n",
      "Requirement already satisfied: nbclient<0.6.0,>=0.5.0 in /opt/conda/lib/python3.10/site-packages (from nbconvert>=5->notebook>=4.4.1->widgetsnbextension~=3.6.0->ipywidgets) (0.5.13)\r\n",
      "Requirement already satisfied: MarkupSafe>=2.0 in /opt/conda/lib/python3.10/site-packages (from nbconvert>=5->notebook>=4.4.1->widgetsnbextension~=3.6.0->ipywidgets) (2.1.5)\r\n",
      "Requirement already satisfied: fastjsonschema>=2.15 in /opt/conda/lib/python3.10/site-packages (from nbformat->notebook>=4.4.1->widgetsnbextension~=3.6.0->ipywidgets) (2.19.1)\r\n",
      "Requirement already satisfied: jsonschema>=2.6 in /opt/conda/lib/python3.10/site-packages (from nbformat->notebook>=4.4.1->widgetsnbextension~=3.6.0->ipywidgets) (4.22.0)\r\n",
      "Requirement already satisfied: argon2-cffi-bindings in /opt/conda/lib/python3.10/site-packages (from argon2-cffi->notebook>=4.4.1->widgetsnbextension~=3.6.0->ipywidgets) (21.2.0)\r\n",
      "Requirement already satisfied: attrs>=22.2.0 in /opt/conda/lib/python3.10/site-packages (from jsonschema>=2.6->nbformat->notebook>=4.4.1->widgetsnbextension~=3.6.0->ipywidgets) (23.2.0)\r\n",
      "Requirement already satisfied: jsonschema-specifications>=2023.03.6 in /opt/conda/lib/python3.10/site-packages (from jsonschema>=2.6->nbformat->notebook>=4.4.1->widgetsnbextension~=3.6.0->ipywidgets) (2023.12.1)\r\n",
      "Requirement already satisfied: referencing>=0.28.4 in /opt/conda/lib/python3.10/site-packages (from jsonschema>=2.6->nbformat->notebook>=4.4.1->widgetsnbextension~=3.6.0->ipywidgets) (0.35.1)\r\n",
      "Requirement already satisfied: rpds-py>=0.7.1 in /opt/conda/lib/python3.10/site-packages (from jsonschema>=2.6->nbformat->notebook>=4.4.1->widgetsnbextension~=3.6.0->ipywidgets) (0.18.1)\r\n",
      "Requirement already satisfied: jupyter-server<3,>=1.8 in /opt/conda/lib/python3.10/site-packages (from notebook-shim>=0.2.3->nbclassic>=0.4.7->notebook>=4.4.1->widgetsnbextension~=3.6.0->ipywidgets) (2.12.5)\r\n",
      "Requirement already satisfied: cffi>=1.0.1 in /opt/conda/lib/python3.10/site-packages (from argon2-cffi-bindings->argon2-cffi->notebook>=4.4.1->widgetsnbextension~=3.6.0->ipywidgets) (1.16.0)\r\n",
      "Requirement already satisfied: soupsieve>1.2 in /opt/conda/lib/python3.10/site-packages (from beautifulsoup4->nbconvert>=5->notebook>=4.4.1->widgetsnbextension~=3.6.0->ipywidgets) (2.5)\r\n",
      "Requirement already satisfied: webencodings in /opt/conda/lib/python3.10/site-packages (from bleach->nbconvert>=5->notebook>=4.4.1->widgetsnbextension~=3.6.0->ipywidgets) (0.5.1)\r\n",
      "Requirement already satisfied: pycparser in /opt/conda/lib/python3.10/site-packages (from cffi>=1.0.1->argon2-cffi-bindings->argon2-cffi->notebook>=4.4.1->widgetsnbextension~=3.6.0->ipywidgets) (2.22)\r\n",
      "Requirement already satisfied: anyio>=3.1.0 in /opt/conda/lib/python3.10/site-packages (from jupyter-server<3,>=1.8->notebook-shim>=0.2.3->nbclassic>=0.4.7->notebook>=4.4.1->widgetsnbextension~=3.6.0->ipywidgets) (4.4.0)\r\n",
      "Requirement already satisfied: jupyter-events>=0.9.0 in /opt/conda/lib/python3.10/site-packages (from jupyter-server<3,>=1.8->notebook-shim>=0.2.3->nbclassic>=0.4.7->notebook>=4.4.1->widgetsnbextension~=3.6.0->ipywidgets) (0.10.0)\r\n",
      "Requirement already satisfied: jupyter-server-terminals in /opt/conda/lib/python3.10/site-packages (from jupyter-server<3,>=1.8->notebook-shim>=0.2.3->nbclassic>=0.4.7->notebook>=4.4.1->widgetsnbextension~=3.6.0->ipywidgets) (0.5.3)\r\n",
      "Requirement already satisfied: overrides in /opt/conda/lib/python3.10/site-packages (from jupyter-server<3,>=1.8->notebook-shim>=0.2.3->nbclassic>=0.4.7->notebook>=4.4.1->widgetsnbextension~=3.6.0->ipywidgets) (7.7.0)\r\n",
      "Requirement already satisfied: websocket-client in /opt/conda/lib/python3.10/site-packages (from jupyter-server<3,>=1.8->notebook-shim>=0.2.3->nbclassic>=0.4.7->notebook>=4.4.1->widgetsnbextension~=3.6.0->ipywidgets) (1.8.0)\r\n",
      "Requirement already satisfied: idna>=2.8 in /opt/conda/lib/python3.10/site-packages (from anyio>=3.1.0->jupyter-server<3,>=1.8->notebook-shim>=0.2.3->nbclassic>=0.4.7->notebook>=4.4.1->widgetsnbextension~=3.6.0->ipywidgets) (3.7)\r\n",
      "Requirement already satisfied: sniffio>=1.1 in /opt/conda/lib/python3.10/site-packages (from anyio>=3.1.0->jupyter-server<3,>=1.8->notebook-shim>=0.2.3->nbclassic>=0.4.7->notebook>=4.4.1->widgetsnbextension~=3.6.0->ipywidgets) (1.3.1)\r\n",
      "Requirement already satisfied: typing-extensions>=4.1 in /opt/conda/lib/python3.10/site-packages (from anyio>=3.1.0->jupyter-server<3,>=1.8->notebook-shim>=0.2.3->nbclassic>=0.4.7->notebook>=4.4.1->widgetsnbextension~=3.6.0->ipywidgets) (4.12.2)\r\n",
      "Requirement already satisfied: python-json-logger>=2.0.4 in /opt/conda/lib/python3.10/site-packages (from jupyter-events>=0.9.0->jupyter-server<3,>=1.8->notebook-shim>=0.2.3->nbclassic>=0.4.7->notebook>=4.4.1->widgetsnbextension~=3.6.0->ipywidgets) (2.0.7)\r\n",
      "Requirement already satisfied: pyyaml>=5.3 in /opt/conda/lib/python3.10/site-packages (from jupyter-events>=0.9.0->jupyter-server<3,>=1.8->notebook-shim>=0.2.3->nbclassic>=0.4.7->notebook>=4.4.1->widgetsnbextension~=3.6.0->ipywidgets) (6.0.2)\r\n",
      "Requirement already satisfied: rfc3339-validator in /opt/conda/lib/python3.10/site-packages (from jupyter-events>=0.9.0->jupyter-server<3,>=1.8->notebook-shim>=0.2.3->nbclassic>=0.4.7->notebook>=4.4.1->widgetsnbextension~=3.6.0->ipywidgets) (0.1.4)\r\n",
      "Requirement already satisfied: rfc3986-validator>=0.1.1 in /opt/conda/lib/python3.10/site-packages (from jupyter-events>=0.9.0->jupyter-server<3,>=1.8->notebook-shim>=0.2.3->nbclassic>=0.4.7->notebook>=4.4.1->widgetsnbextension~=3.6.0->ipywidgets) (0.1.1)\r\n",
      "Requirement already satisfied: fqdn in /opt/conda/lib/python3.10/site-packages (from jsonschema[format-nongpl]>=4.18.0->jupyter-events>=0.9.0->jupyter-server<3,>=1.8->notebook-shim>=0.2.3->nbclassic>=0.4.7->notebook>=4.4.1->widgetsnbextension~=3.6.0->ipywidgets) (1.5.1)\r\n",
      "Requirement already satisfied: isoduration in /opt/conda/lib/python3.10/site-packages (from jsonschema[format-nongpl]>=4.18.0->jupyter-events>=0.9.0->jupyter-server<3,>=1.8->notebook-shim>=0.2.3->nbclassic>=0.4.7->notebook>=4.4.1->widgetsnbextension~=3.6.0->ipywidgets) (20.11.0)\r\n",
      "Requirement already satisfied: jsonpointer>1.13 in /opt/conda/lib/python3.10/site-packages (from jsonschema[format-nongpl]>=4.18.0->jupyter-events>=0.9.0->jupyter-server<3,>=1.8->notebook-shim>=0.2.3->nbclassic>=0.4.7->notebook>=4.4.1->widgetsnbextension~=3.6.0->ipywidgets) (2.4)\r\n",
      "Requirement already satisfied: uri-template in /opt/conda/lib/python3.10/site-packages (from jsonschema[format-nongpl]>=4.18.0->jupyter-events>=0.9.0->jupyter-server<3,>=1.8->notebook-shim>=0.2.3->nbclassic>=0.4.7->notebook>=4.4.1->widgetsnbextension~=3.6.0->ipywidgets) (1.3.0)\r\n",
      "Requirement already satisfied: webcolors>=1.11 in /opt/conda/lib/python3.10/site-packages (from jsonschema[format-nongpl]>=4.18.0->jupyter-events>=0.9.0->jupyter-server<3,>=1.8->notebook-shim>=0.2.3->nbclassic>=0.4.7->notebook>=4.4.1->widgetsnbextension~=3.6.0->ipywidgets) (24.6.0)\r\n",
      "Requirement already satisfied: arrow>=0.15.0 in /opt/conda/lib/python3.10/site-packages (from isoduration->jsonschema[format-nongpl]>=4.18.0->jupyter-events>=0.9.0->jupyter-server<3,>=1.8->notebook-shim>=0.2.3->nbclassic>=0.4.7->notebook>=4.4.1->widgetsnbextension~=3.6.0->ipywidgets) (1.3.0)\r\n",
      "Requirement already satisfied: types-python-dateutil>=2.8.10 in /opt/conda/lib/python3.10/site-packages (from arrow>=0.15.0->isoduration->jsonschema[format-nongpl]>=4.18.0->jupyter-events>=0.9.0->jupyter-server<3,>=1.8->notebook-shim>=0.2.3->nbclassic>=0.4.7->notebook>=4.4.1->widgetsnbextension~=3.6.0->ipywidgets) (2.9.0.20240316)\r\n",
      "Enabling notebook extension jupyter-js-widgets/extension...\r\n",
      "      - Validating: \u001b[32mOK\u001b[0m\r\n"
     ]
    }
   ],
   "source": [
    "! pip install --upgrade ipywidgets\n",
    "! jupyter nbextension enable --py widgetsnbextension\n",
    "! export PYTORCH_CUDA_ALLOC_CONF=expandable_segments:True"
   ]
  },
  {
   "cell_type": "markdown",
   "id": "4046bebc",
   "metadata": {
    "papermill": {
     "duration": 0.005936,
     "end_time": "2024-12-08T18:38:56.043490",
     "exception": false,
     "start_time": "2024-12-08T18:38:56.037554",
     "status": "completed"
    },
    "tags": []
   },
   "source": [
    "### Explanation of Each Library:\n",
    "\n",
    "1. **`keras`**: Essential for building and training deep learning models, including the Gemma_2b model.\n",
    "2. **`pandas`**: Handles data loading and preprocessing tasks, enabling efficient dataset management.\n",
    "3. **`keras_nlp`**: Adds NLP-specific components within Keras, such as tokenizers and embedding\n",
    "4. **`tensorflow`**: To get the optimizer like adam, adamw like this\n",
    "5. **`mixed_precision`**: To set the global policy to float16"
   ]
  },
  {
   "cell_type": "code",
   "execution_count": 5,
   "id": "ff8236f7",
   "metadata": {
    "_cell_guid": "b1076dfc-b9ad-4769-8c92-a6c4dae69d19",
    "_uuid": "8f2839f25d086af736a60e9eeb907d3b93b6e0e5",
    "execution": {
     "iopub.execute_input": "2024-12-08T18:38:56.057922Z",
     "iopub.status.busy": "2024-12-08T18:38:56.057258Z",
     "iopub.status.idle": "2024-12-08T18:39:07.595131Z",
     "shell.execute_reply": "2024-12-08T18:39:07.594224Z"
    },
    "papermill": {
     "duration": 11.547589,
     "end_time": "2024-12-08T18:39:07.597233",
     "exception": false,
     "start_time": "2024-12-08T18:38:56.049644",
     "status": "completed"
    },
    "tags": []
   },
   "outputs": [],
   "source": [
    "# Gemma Model Training Script\n",
    "# Purpose: Train the Gemma_2b model in Marathi Language\n",
    "# Step 1: Import essential libraries for data processing, NLP, and model training\n",
    "import keras\n",
    "import pandas as pd\n",
    "import keras_nlp \n",
    "import tensorflow as tf\n",
    "from tensorflow.keras import mixed_precision\n",
    "policy = mixed_precision.Policy('float16')\n",
    "mixed_precision.set_global_policy(policy)"
   ]
  },
  {
   "cell_type": "markdown",
   "id": "25027e6a",
   "metadata": {
    "_kg_hide-input": true,
    "papermill": {
     "duration": 0.005923,
     "end_time": "2024-12-08T18:39:07.609909",
     "exception": false,
     "start_time": "2024-12-08T18:39:07.603986",
     "status": "completed"
    },
    "tags": []
   },
   "source": [
    "- **Loading the Model**: The from_preset method is used to load a pre-trained model. The preprocessor parameter is set to None, indicating that the model will not apply any preprocessing to the input data.\n",
    "\n",
    "- **Model Summary**: The summary method provides a detailed overview of the model's architecture, which is useful for understanding the structure and complexity of the model."
   ]
  },
  {
   "cell_type": "code",
   "execution_count": 6,
   "id": "9f094ee5",
   "metadata": {
    "execution": {
     "iopub.execute_input": "2024-12-08T18:39:07.623476Z",
     "iopub.status.busy": "2024-12-08T18:39:07.622936Z",
     "iopub.status.idle": "2024-12-08T18:39:59.349124Z",
     "shell.execute_reply": "2024-12-08T18:39:59.348299Z"
    },
    "papermill": {
     "duration": 51.734846,
     "end_time": "2024-12-08T18:39:59.350814",
     "exception": false,
     "start_time": "2024-12-08T18:39:07.615968",
     "status": "completed"
    },
    "tags": []
   },
   "outputs": [
    {
     "name": "stderr",
     "output_type": "stream",
     "text": [
      "normalizer.cc(51) LOG(INFO) precompiled_charsmap is empty. use identity normalization.\n"
     ]
    },
    {
     "data": {
      "text/html": [
       "<pre style=\"white-space:pre;overflow-x:auto;line-height:normal;font-family:Menlo,'DejaVu Sans Mono',consolas,'Courier New',monospace\"><span style=\"font-weight: bold\">Preprocessor: \"gemma_causal_lm_preprocessor\"</span>\n",
       "</pre>\n"
      ],
      "text/plain": [
       "\u001b[1mPreprocessor: \"gemma_causal_lm_preprocessor\"\u001b[0m\n"
      ]
     },
     "metadata": {},
     "output_type": "display_data"
    },
    {
     "data": {
      "text/html": [
       "<pre style=\"white-space:pre;overflow-x:auto;line-height:normal;font-family:Menlo,'DejaVu Sans Mono',consolas,'Courier New',monospace\">┏━━━━━━━━━━━━━━━━━━━━━━━━━━━━━━━━━━━━━━━━━━━━━━━━━━━━━━━━━━━━━━━┳━━━━━━━━━━━━━━━━━━━━━━━━━━━━━━━━━━━━━━━━━━┓\n",
       "┃<span style=\"font-weight: bold\"> Layer (type)                                                  </span>┃<span style=\"font-weight: bold\">                                   Config </span>┃\n",
       "┡━━━━━━━━━━━━━━━━━━━━━━━━━━━━━━━━━━━━━━━━━━━━━━━━━━━━━━━━━━━━━━━╇━━━━━━━━━━━━━━━━━━━━━━━━━━━━━━━━━━━━━━━━━━┩\n",
       "│ gemma_tokenizer (<span style=\"color: #0087ff; text-decoration-color: #0087ff\">GemmaTokenizer</span>)                              │                      Vocab size: <span style=\"color: #00af00; text-decoration-color: #00af00\">256,000</span> │\n",
       "└───────────────────────────────────────────────────────────────┴──────────────────────────────────────────┘\n",
       "</pre>\n"
      ],
      "text/plain": [
       "┏━━━━━━━━━━━━━━━━━━━━━━━━━━━━━━━━━━━━━━━━━━━━━━━━━━━━━━━━━━━━━━━┳━━━━━━━━━━━━━━━━━━━━━━━━━━━━━━━━━━━━━━━━━━┓\n",
       "┃\u001b[1m \u001b[0m\u001b[1mLayer (type)                                                 \u001b[0m\u001b[1m \u001b[0m┃\u001b[1m \u001b[0m\u001b[1m                                  Config\u001b[0m\u001b[1m \u001b[0m┃\n",
       "┡━━━━━━━━━━━━━━━━━━━━━━━━━━━━━━━━━━━━━━━━━━━━━━━━━━━━━━━━━━━━━━━╇━━━━━━━━━━━━━━━━━━━━━━━━━━━━━━━━━━━━━━━━━━┩\n",
       "│ gemma_tokenizer (\u001b[38;5;33mGemmaTokenizer\u001b[0m)                              │                      Vocab size: \u001b[38;5;34m256,000\u001b[0m │\n",
       "└───────────────────────────────────────────────────────────────┴──────────────────────────────────────────┘\n"
      ]
     },
     "metadata": {},
     "output_type": "display_data"
    },
    {
     "data": {
      "text/html": [
       "<pre style=\"white-space:pre;overflow-x:auto;line-height:normal;font-family:Menlo,'DejaVu Sans Mono',consolas,'Courier New',monospace\"><span style=\"font-weight: bold\">Model: \"gemma_causal_lm\"</span>\n",
       "</pre>\n"
      ],
      "text/plain": [
       "\u001b[1mModel: \"gemma_causal_lm\"\u001b[0m\n"
      ]
     },
     "metadata": {},
     "output_type": "display_data"
    },
    {
     "data": {
      "text/html": [
       "<pre style=\"white-space:pre;overflow-x:auto;line-height:normal;font-family:Menlo,'DejaVu Sans Mono',consolas,'Courier New',monospace\">┏━━━━━━━━━━━━━━━━━━━━━━━━━━━━━━━┳━━━━━━━━━━━━━━━━━━━━━━━━━━━┳━━━━━━━━━━━━━━━━━┳━━━━━━━━━━━━━━━━━━━━━━━━━━━━┓\n",
       "┃<span style=\"font-weight: bold\"> Layer (type)                  </span>┃<span style=\"font-weight: bold\"> Output Shape              </span>┃<span style=\"font-weight: bold\">         Param # </span>┃<span style=\"font-weight: bold\"> Connected to               </span>┃\n",
       "┡━━━━━━━━━━━━━━━━━━━━━━━━━━━━━━━╇━━━━━━━━━━━━━━━━━━━━━━━━━━━╇━━━━━━━━━━━━━━━━━╇━━━━━━━━━━━━━━━━━━━━━━━━━━━━┩\n",
       "│ padding_mask (<span style=\"color: #0087ff; text-decoration-color: #0087ff\">InputLayer</span>)     │ (<span style=\"color: #00d7ff; text-decoration-color: #00d7ff\">None</span>, <span style=\"color: #00d7ff; text-decoration-color: #00d7ff\">None</span>)              │               <span style=\"color: #00af00; text-decoration-color: #00af00\">0</span> │ -                          │\n",
       "├───────────────────────────────┼───────────────────────────┼─────────────────┼────────────────────────────┤\n",
       "│ token_ids (<span style=\"color: #0087ff; text-decoration-color: #0087ff\">InputLayer</span>)        │ (<span style=\"color: #00d7ff; text-decoration-color: #00d7ff\">None</span>, <span style=\"color: #00d7ff; text-decoration-color: #00d7ff\">None</span>)              │               <span style=\"color: #00af00; text-decoration-color: #00af00\">0</span> │ -                          │\n",
       "├───────────────────────────────┼───────────────────────────┼─────────────────┼────────────────────────────┤\n",
       "│ gemma_backbone                │ (<span style=\"color: #00d7ff; text-decoration-color: #00d7ff\">None</span>, <span style=\"color: #00d7ff; text-decoration-color: #00d7ff\">None</span>, <span style=\"color: #00af00; text-decoration-color: #00af00\">2304</span>)        │   <span style=\"color: #00af00; text-decoration-color: #00af00\">2,614,341,888</span> │ padding_mask[<span style=\"color: #00af00; text-decoration-color: #00af00\">0</span>][<span style=\"color: #00af00; text-decoration-color: #00af00\">0</span>],        │\n",
       "│ (<span style=\"color: #0087ff; text-decoration-color: #0087ff\">GemmaBackbone</span>)               │                           │                 │ token_ids[<span style=\"color: #00af00; text-decoration-color: #00af00\">0</span>][<span style=\"color: #00af00; text-decoration-color: #00af00\">0</span>]            │\n",
       "├───────────────────────────────┼───────────────────────────┼─────────────────┼────────────────────────────┤\n",
       "│ token_embedding               │ (<span style=\"color: #00d7ff; text-decoration-color: #00d7ff\">None</span>, <span style=\"color: #00d7ff; text-decoration-color: #00d7ff\">None</span>, <span style=\"color: #00af00; text-decoration-color: #00af00\">256000</span>)      │     <span style=\"color: #00af00; text-decoration-color: #00af00\">589,824,000</span> │ gemma_backbone[<span style=\"color: #00af00; text-decoration-color: #00af00\">0</span>][<span style=\"color: #00af00; text-decoration-color: #00af00\">0</span>]       │\n",
       "│ (<span style=\"color: #0087ff; text-decoration-color: #0087ff\">ReversibleEmbedding</span>)         │                           │                 │                            │\n",
       "└───────────────────────────────┴───────────────────────────┴─────────────────┴────────────────────────────┘\n",
       "</pre>\n"
      ],
      "text/plain": [
       "┏━━━━━━━━━━━━━━━━━━━━━━━━━━━━━━━┳━━━━━━━━━━━━━━━━━━━━━━━━━━━┳━━━━━━━━━━━━━━━━━┳━━━━━━━━━━━━━━━━━━━━━━━━━━━━┓\n",
       "┃\u001b[1m \u001b[0m\u001b[1mLayer (type)                 \u001b[0m\u001b[1m \u001b[0m┃\u001b[1m \u001b[0m\u001b[1mOutput Shape             \u001b[0m\u001b[1m \u001b[0m┃\u001b[1m \u001b[0m\u001b[1m        Param #\u001b[0m\u001b[1m \u001b[0m┃\u001b[1m \u001b[0m\u001b[1mConnected to              \u001b[0m\u001b[1m \u001b[0m┃\n",
       "┡━━━━━━━━━━━━━━━━━━━━━━━━━━━━━━━╇━━━━━━━━━━━━━━━━━━━━━━━━━━━╇━━━━━━━━━━━━━━━━━╇━━━━━━━━━━━━━━━━━━━━━━━━━━━━┩\n",
       "│ padding_mask (\u001b[38;5;33mInputLayer\u001b[0m)     │ (\u001b[38;5;45mNone\u001b[0m, \u001b[38;5;45mNone\u001b[0m)              │               \u001b[38;5;34m0\u001b[0m │ -                          │\n",
       "├───────────────────────────────┼───────────────────────────┼─────────────────┼────────────────────────────┤\n",
       "│ token_ids (\u001b[38;5;33mInputLayer\u001b[0m)        │ (\u001b[38;5;45mNone\u001b[0m, \u001b[38;5;45mNone\u001b[0m)              │               \u001b[38;5;34m0\u001b[0m │ -                          │\n",
       "├───────────────────────────────┼───────────────────────────┼─────────────────┼────────────────────────────┤\n",
       "│ gemma_backbone                │ (\u001b[38;5;45mNone\u001b[0m, \u001b[38;5;45mNone\u001b[0m, \u001b[38;5;34m2304\u001b[0m)        │   \u001b[38;5;34m2,614,341,888\u001b[0m │ padding_mask[\u001b[38;5;34m0\u001b[0m][\u001b[38;5;34m0\u001b[0m],        │\n",
       "│ (\u001b[38;5;33mGemmaBackbone\u001b[0m)               │                           │                 │ token_ids[\u001b[38;5;34m0\u001b[0m][\u001b[38;5;34m0\u001b[0m]            │\n",
       "├───────────────────────────────┼───────────────────────────┼─────────────────┼────────────────────────────┤\n",
       "│ token_embedding               │ (\u001b[38;5;45mNone\u001b[0m, \u001b[38;5;45mNone\u001b[0m, \u001b[38;5;34m256000\u001b[0m)      │     \u001b[38;5;34m589,824,000\u001b[0m │ gemma_backbone[\u001b[38;5;34m0\u001b[0m][\u001b[38;5;34m0\u001b[0m]       │\n",
       "│ (\u001b[38;5;33mReversibleEmbedding\u001b[0m)         │                           │                 │                            │\n",
       "└───────────────────────────────┴───────────────────────────┴─────────────────┴────────────────────────────┘\n"
      ]
     },
     "metadata": {},
     "output_type": "display_data"
    },
    {
     "data": {
      "text/html": [
       "<pre style=\"white-space:pre;overflow-x:auto;line-height:normal;font-family:Menlo,'DejaVu Sans Mono',consolas,'Courier New',monospace\"><span style=\"font-weight: bold\"> Total params: </span><span style=\"color: #00af00; text-decoration-color: #00af00\">2,614,341,888</span> (4.87 GB)\n",
       "</pre>\n"
      ],
      "text/plain": [
       "\u001b[1m Total params: \u001b[0m\u001b[38;5;34m2,614,341,888\u001b[0m (4.87 GB)\n"
      ]
     },
     "metadata": {},
     "output_type": "display_data"
    },
    {
     "data": {
      "text/html": [
       "<pre style=\"white-space:pre;overflow-x:auto;line-height:normal;font-family:Menlo,'DejaVu Sans Mono',consolas,'Courier New',monospace\"><span style=\"font-weight: bold\"> Trainable params: </span><span style=\"color: #00af00; text-decoration-color: #00af00\">2,614,341,888</span> (4.87 GB)\n",
       "</pre>\n"
      ],
      "text/plain": [
       "\u001b[1m Trainable params: \u001b[0m\u001b[38;5;34m2,614,341,888\u001b[0m (4.87 GB)\n"
      ]
     },
     "metadata": {},
     "output_type": "display_data"
    },
    {
     "data": {
      "text/html": [
       "<pre style=\"white-space:pre;overflow-x:auto;line-height:normal;font-family:Menlo,'DejaVu Sans Mono',consolas,'Courier New',monospace\"><span style=\"font-weight: bold\"> Non-trainable params: </span><span style=\"color: #00af00; text-decoration-color: #00af00\">0</span> (0.00 B)\n",
       "</pre>\n"
      ],
      "text/plain": [
       "\u001b[1m Non-trainable params: \u001b[0m\u001b[38;5;34m0\u001b[0m (0.00 B)\n"
      ]
     },
     "metadata": {},
     "output_type": "display_data"
    }
   ],
   "source": [
    "gemma2_2b_en = keras_nlp.models.GemmaCausalLM.from_preset('gemma2_instruct_2b_en')\n",
    "gemma2_2b_en.summary()"
   ]
  },
  {
   "cell_type": "markdown",
   "id": "1cd6fb7a",
   "metadata": {
    "papermill": {
     "duration": 0.00657,
     "end_time": "2024-12-08T18:39:59.364209",
     "exception": false,
     "start_time": "2024-12-08T18:39:59.357639",
     "status": "completed"
    },
    "tags": []
   },
   "source": [
    "## **Before the train of model**"
   ]
  },
  {
   "cell_type": "markdown",
   "id": "d6a2e8f3",
   "metadata": {
    "papermill": {
     "duration": 0.006551,
     "end_time": "2024-12-08T18:39:59.377351",
     "exception": false,
     "start_time": "2024-12-08T18:39:59.370800",
     "status": "completed"
    },
    "tags": []
   },
   "source": [
    "First we check output with respect to this sentence `'tell me how photosynthesis work in marathi langauge'`"
   ]
  },
  {
   "cell_type": "code",
   "execution_count": 7,
   "id": "d23dbaaf",
   "metadata": {
    "execution": {
     "iopub.execute_input": "2024-12-08T18:39:59.391991Z",
     "iopub.status.busy": "2024-12-08T18:39:59.391720Z",
     "iopub.status.idle": "2024-12-08T18:41:13.412077Z",
     "shell.execute_reply": "2024-12-08T18:41:13.411199Z"
    },
    "papermill": {
     "duration": 74.037296,
     "end_time": "2024-12-08T18:41:13.421378",
     "exception": false,
     "start_time": "2024-12-08T18:39:59.384082",
     "status": "completed"
    },
    "tags": []
   },
   "outputs": [
    {
     "name": "stderr",
     "output_type": "stream",
     "text": [
      "WARNING: All log messages before absl::InitializeLog() is called are written to STDERR\n",
      "I0000 00:00:1733683209.533128      23 service.cc:145] XLA service 0x5a5a08978770 initialized for platform CUDA (this does not guarantee that XLA will be used). Devices:\n",
      "I0000 00:00:1733683209.533193      23 service.cc:153]   StreamExecutor device (0): Tesla T4, Compute Capability 7.5\n",
      "I0000 00:00:1733683209.533200      23 service.cc:153]   StreamExecutor device (1): Tesla T4, Compute Capability 7.5\n",
      "I0000 00:00:1733683231.020445      23 device_compiler.h:188] Compiled cluster using XLA!  This line is logged at most once for the lifetime of the process.\n"
     ]
    },
    {
     "data": {
      "text/plain": [
       "'tell me how photosynthesis work in marathi langauge.\\n\\n**पणासाठी प्रकाशसंश्लेषण हा एक महत्त्वाचा प्रक्रिया आहे.**\\n\\n**प्रकाशसंश्लेषणाचा कार्यक्रम:**\\n\\n* **प्रकाश:** प्रकाशसंश्लेषणात प्रकाश किरणे वापरतात.\\n* **पौधे:** पौधे प्रकाशसंश्लेषण करण्यासाठी वापरतात.\\n* **पौधेच्या पाण्याची किंमत:** पौधेच्या पाण्याची किंमत प्रकाशसंश्लेषणात वापरते.\\n* **कार्बन डाइऑक्साइड:** कार्बन डाइऑक्साइड पौधेच्या पाण्याच्या किंमतीतून प्राप्त होते.\\n* **ऑक्सीजन:** प्रकाशसंश्लेषणात ऑक्सीजन निर्माण होते.\\n\\n**प्रकाशसंश्लेषणाचा कार्यक्रम:**\\n\\n1. **प्रकाश किरणे पौध्याच्या पातळीवर येतात.**\\n2. **प्रकाश किरणे पौध्याच्या पातळीवर पौधेच्या पातळीवर पौधेच्या पातळीवर पौधेच्या पातळीवर पौधेच्या पातळीवर पौधेच्या पातळीवर पौधेच्या पातळीवर पौधेच्या पातळीवर पौधेच्या पातळीवर पौधेच्या पातळीवर पौधेच्या पातळीवर पौधेच्या पातळीवर पौधेच्या पातळीवर पौधेच्या पातळीवर पौधेच्या पातळीवर पौधेच्या पातळीवर पौधेच्या पातळीवर पौधेच्या पातळीवर पौधेच्या पातळीवर पौधेच्या पातळीवर पौधेच्या पातळीवर पौधेच्या पातळीवर पौधेच्या पातळीवर पौधेच्या पातळीवर पौधेच्या पातळीवर पौधेच्या पातळीवर पौधेच्या पातळीवर पौधेच्या पातळीवर पौधेच्या पातळीवर पौधेच्या पातळीवर पौधेच्या पातळीवर पौधेच्या पातळीवर पौधेच्या पातळीवर पौधेच्या पातळीवर पौधेच्या पातळीवर पौधेच्या पातळीवर पौधेच्या पातळीवर पौधेच्या पातळीवर पौधेच्या पातळीवर पौधेच्या पातळीवर पौधेच्या पातळीवर पौधेच्या पातळीवर पौधेच्या पातळीवर पौधेच्या पातळीवर पौधेच्या पातळीवर पौधेच्या पातळीवर पौधेच्या पातळीवर पौधेच्या पातळीवर पौधेच्या पातळीवर पौधेच्या पातळीवर पौधेच्या पातळीवर पौधेच्या पातळीवर पौधेच्या पातळीवर पौधेच्या पातळीवर पौधेच्या पातळीवर पौधेच्या पातळीवर पौधेच्या पातळीवर पौधेच्या पातळीवर पौधेच्या पातळीवर पौधेच्या पातळीवर पौधेच्या पातळीवर पौधेच्या पातळीवर पौधेच्या पातळीवर पौधेच्या पातळीवर पौधेच्या पातळीवर पौधेच्या पातळीवर पौधेच्या पातळीवर पौधेच्या पातळीवर पौधेच्या पातळीवर पौधेच्या पातळीवर पौधेच्या पातळीवर पौधेच्या पातळीवर पौधेच्या पातळीवर पौधेच्या पातळीवर पौधेच्या पातळीवर पौधेच्या पातळीवर पौधेच्या पातळीवर पौधेच्या पातळीवर पौधेच्या पातळीवर पौधेच्या पातळीवर पौधेच्या पातळीवर पौधेच्या पातळीवर पौधेच्या पातळीवर पौधेच्या पातळीवर पौधेच्या पातळीवर पौधेच्या पातळीवर पौधेच्या पातळीवर पौधेच्या पातळीवर पौधेच्या पातळीवर पौधेच्या प'"
      ]
     },
     "execution_count": 7,
     "metadata": {},
     "output_type": "execute_result"
    }
   ],
   "source": [
    "gemma2_2b_en.generate(\"tell me how photosynthesis work in marathi langauge\")"
   ]
  },
  {
   "cell_type": "markdown",
   "id": "d7e3cb41",
   "metadata": {
    "papermill": {
     "duration": 0.00689,
     "end_time": "2024-12-08T18:41:13.435439",
     "exception": false,
     "start_time": "2024-12-08T18:41:13.428549",
     "status": "completed"
    },
    "tags": []
   },
   "source": [
    "## **Same input**\n",
    "**We can see that in marathi Language it just repeat multipile time it make no sence where else in English we can see that it differ for marathi language ** Input as `'The Maharashtra government has announced a new policy.'`"
   ]
  },
  {
   "cell_type": "code",
   "execution_count": 8,
   "id": "14aa4df3",
   "metadata": {
    "execution": {
     "iopub.execute_input": "2024-12-08T18:41:13.450533Z",
     "iopub.status.busy": "2024-12-08T18:41:13.450199Z",
     "iopub.status.idle": "2024-12-08T18:41:37.279753Z",
     "shell.execute_reply": "2024-12-08T18:41:37.278788Z"
    },
    "papermill": {
     "duration": 23.839178,
     "end_time": "2024-12-08T18:41:37.281459",
     "exception": false,
     "start_time": "2024-12-08T18:41:13.442281",
     "status": "completed"
    },
    "tags": []
   },
   "outputs": [
    {
     "data": {
      "text/plain": [
       "\"tell me how photosynthesis work\\n\\n## Photosynthesis: Turning Sunlight into Sugar\\n\\nPhotosynthesis is the incredible process by which plants, algae, and some bacteria convert light energy into chemical energy in the form of sugars. It's like a solar-powered factory, using sunlight, water, and carbon dioxide to create food for itself and release oxygen as a byproduct.\\n\\n**Here's a simplified breakdown of the process:**\\n\\n**1. Capturing Sunlight:**\\n   - Plants have special structures called chloroplasts, which contain a green pigment called chlorophyll.\\n   - Chlorophyll absorbs light energy, primarily in the red and blue wavelengths, and reflects green light (which is why plants appear green).\\n\\n**2. Light-Dependent Reactions:**\\n   - The absorbed light energy is used to split water molecules into hydrogen ions (H+), electrons (e-), and oxygen gas (O2).\\n   - The electrons are passed along an electron transport chain, releasing energy that is used to generate ATP (adenosine triphosphate), the energy currency of cells.\\n   - NADPH (nicotinamide adenine dinucleotide phosphate), another energy carrier, is also produced.\\n\\n**3. Light-Independent Reactions (Calvin Cycle):**\\n   - Carbon dioxide from the atmosphere is captured and incorporated into organic molecules.\\n   - Using the energy from ATP and NADPH generated in the light-dependent reactions, carbon dioxide is converted into glucose (a simple sugar).\\n\\n**4. Glucose and Oxygen:**\\n   - Glucose is the primary source of energy for the plant.\\n   - Oxygen is released as a byproduct of the light-dependent reactions.\\n\\n**In summary:**\\n\\n- **Light energy** is captured by chlorophyll.\\n- **Water** is split, releasing oxygen and providing electrons.\\n- **Carbon dioxide** is fixed into sugars.\\n- **ATP and NADPH** are produced to power the process.\\n- **Glucose** is the end product, providing energy for the plant.\\n\\n\\n**Why is Photosynthesis Important?**\\n\\n- **Food Source:** Photosynthesis is the basis of most food chains on Earth.\\n- **Oxygen Production:** It releases oxygen into the atmosphere, which is essential for the survival of most living organisms.\\n- **Carbon Dioxide Regulation:** It removes carbon dioxide from the atmosphere, helping to regulate the Earth's climate.\\n\\n\\n**Fun Fact:**  The process of photosynthesis is so efficient that it accounts for about 50% of the world's oxygen production!\\n\\n\\nLet me know if you'd like to dive deeper into any specific aspect of photosynthesis!<end_of_turn>\""
      ]
     },
     "execution_count": 8,
     "metadata": {},
     "output_type": "execute_result"
    }
   ],
   "source": [
    "gemma2_2b_en.generate(\"tell me how photosynthesis work\")"
   ]
  },
  {
   "cell_type": "markdown",
   "id": "a74c002f",
   "metadata": {
    "papermill": {
     "duration": 0.007164,
     "end_time": "2024-12-08T18:41:37.296239",
     "exception": false,
     "start_time": "2024-12-08T18:41:37.289075",
     "status": "completed"
    },
    "tags": []
   },
   "source": [
    "# Here, we can see that there is a significant difference between Marathi and English. Therefore, we trained the model in Marathi. We observed that it produces different results for the same sentence."
   ]
  },
  {
   "cell_type": "markdown",
   "id": "5d531b87",
   "metadata": {
    "papermill": {
     "duration": 0.007132,
     "end_time": "2024-12-08T18:41:37.310612",
     "exception": false,
     "start_time": "2024-12-08T18:41:37.303480",
     "status": "completed"
    },
    "tags": []
   },
   "source": [
    "This code sets up the Gemma model with a sequence length of 512, enables LoRA with a rank of 4, and configures the optimizer using AdamW with a specified learning rate and weight decay. The model is then compiled with the optimizer, loss function, and metrics, and is ready for training with the provided input data."
   ]
  },
  {
   "cell_type": "code",
   "execution_count": 9,
   "id": "63eedfcc",
   "metadata": {
    "execution": {
     "iopub.execute_input": "2024-12-08T18:41:37.326350Z",
     "iopub.status.busy": "2024-12-08T18:41:37.326052Z",
     "iopub.status.idle": "2024-12-08T18:41:37.523151Z",
     "shell.execute_reply": "2024-12-08T18:41:37.522320Z"
    },
    "papermill": {
     "duration": 0.20715,
     "end_time": "2024-12-08T18:41:37.524900",
     "exception": false,
     "start_time": "2024-12-08T18:41:37.317750",
     "status": "completed"
    },
    "tags": []
   },
   "outputs": [
    {
     "data": {
      "text/html": [
       "<pre style=\"white-space:pre;overflow-x:auto;line-height:normal;font-family:Menlo,'DejaVu Sans Mono',consolas,'Courier New',monospace\"><span style=\"font-weight: bold\">Preprocessor: \"gemma_causal_lm_preprocessor\"</span>\n",
       "</pre>\n"
      ],
      "text/plain": [
       "\u001b[1mPreprocessor: \"gemma_causal_lm_preprocessor\"\u001b[0m\n"
      ]
     },
     "metadata": {},
     "output_type": "display_data"
    },
    {
     "data": {
      "text/html": [
       "<pre style=\"white-space:pre;overflow-x:auto;line-height:normal;font-family:Menlo,'DejaVu Sans Mono',consolas,'Courier New',monospace\">┏━━━━━━━━━━━━━━━━━━━━━━━━━━━━━━━━━━━━━━━━━━━━━━━━━━━━━━━━━━━━━━━┳━━━━━━━━━━━━━━━━━━━━━━━━━━━━━━━━━━━━━━━━━━┓\n",
       "┃<span style=\"font-weight: bold\"> Layer (type)                                                  </span>┃<span style=\"font-weight: bold\">                                   Config </span>┃\n",
       "┡━━━━━━━━━━━━━━━━━━━━━━━━━━━━━━━━━━━━━━━━━━━━━━━━━━━━━━━━━━━━━━━╇━━━━━━━━━━━━━━━━━━━━━━━━━━━━━━━━━━━━━━━━━━┩\n",
       "│ gemma_tokenizer (<span style=\"color: #0087ff; text-decoration-color: #0087ff\">GemmaTokenizer</span>)                              │                      Vocab size: <span style=\"color: #00af00; text-decoration-color: #00af00\">256,000</span> │\n",
       "└───────────────────────────────────────────────────────────────┴──────────────────────────────────────────┘\n",
       "</pre>\n"
      ],
      "text/plain": [
       "┏━━━━━━━━━━━━━━━━━━━━━━━━━━━━━━━━━━━━━━━━━━━━━━━━━━━━━━━━━━━━━━━┳━━━━━━━━━━━━━━━━━━━━━━━━━━━━━━━━━━━━━━━━━━┓\n",
       "┃\u001b[1m \u001b[0m\u001b[1mLayer (type)                                                 \u001b[0m\u001b[1m \u001b[0m┃\u001b[1m \u001b[0m\u001b[1m                                  Config\u001b[0m\u001b[1m \u001b[0m┃\n",
       "┡━━━━━━━━━━━━━━━━━━━━━━━━━━━━━━━━━━━━━━━━━━━━━━━━━━━━━━━━━━━━━━━╇━━━━━━━━━━━━━━━━━━━━━━━━━━━━━━━━━━━━━━━━━━┩\n",
       "│ gemma_tokenizer (\u001b[38;5;33mGemmaTokenizer\u001b[0m)                              │                      Vocab size: \u001b[38;5;34m256,000\u001b[0m │\n",
       "└───────────────────────────────────────────────────────────────┴──────────────────────────────────────────┘\n"
      ]
     },
     "metadata": {},
     "output_type": "display_data"
    },
    {
     "data": {
      "text/html": [
       "<pre style=\"white-space:pre;overflow-x:auto;line-height:normal;font-family:Menlo,'DejaVu Sans Mono',consolas,'Courier New',monospace\"><span style=\"font-weight: bold\">Model: \"gemma_causal_lm\"</span>\n",
       "</pre>\n"
      ],
      "text/plain": [
       "\u001b[1mModel: \"gemma_causal_lm\"\u001b[0m\n"
      ]
     },
     "metadata": {},
     "output_type": "display_data"
    },
    {
     "data": {
      "text/html": [
       "<pre style=\"white-space:pre;overflow-x:auto;line-height:normal;font-family:Menlo,'DejaVu Sans Mono',consolas,'Courier New',monospace\">┏━━━━━━━━━━━━━━━━━━━━━━━━━━━━━━━┳━━━━━━━━━━━━━━━━━━━━━━━━━━━┳━━━━━━━━━━━━━━━━━┳━━━━━━━━━━━━━━━━━━━━━━━━━━━━┓\n",
       "┃<span style=\"font-weight: bold\"> Layer (type)                  </span>┃<span style=\"font-weight: bold\"> Output Shape              </span>┃<span style=\"font-weight: bold\">         Param # </span>┃<span style=\"font-weight: bold\"> Connected to               </span>┃\n",
       "┡━━━━━━━━━━━━━━━━━━━━━━━━━━━━━━━╇━━━━━━━━━━━━━━━━━━━━━━━━━━━╇━━━━━━━━━━━━━━━━━╇━━━━━━━━━━━━━━━━━━━━━━━━━━━━┩\n",
       "│ padding_mask (<span style=\"color: #0087ff; text-decoration-color: #0087ff\">InputLayer</span>)     │ (<span style=\"color: #00d7ff; text-decoration-color: #00d7ff\">None</span>, <span style=\"color: #00d7ff; text-decoration-color: #00d7ff\">None</span>)              │               <span style=\"color: #00af00; text-decoration-color: #00af00\">0</span> │ -                          │\n",
       "├───────────────────────────────┼───────────────────────────┼─────────────────┼────────────────────────────┤\n",
       "│ token_ids (<span style=\"color: #0087ff; text-decoration-color: #0087ff\">InputLayer</span>)        │ (<span style=\"color: #00d7ff; text-decoration-color: #00d7ff\">None</span>, <span style=\"color: #00d7ff; text-decoration-color: #00d7ff\">None</span>)              │               <span style=\"color: #00af00; text-decoration-color: #00af00\">0</span> │ -                          │\n",
       "├───────────────────────────────┼───────────────────────────┼─────────────────┼────────────────────────────┤\n",
       "│ gemma_backbone                │ (<span style=\"color: #00d7ff; text-decoration-color: #00d7ff\">None</span>, <span style=\"color: #00d7ff; text-decoration-color: #00d7ff\">None</span>, <span style=\"color: #00af00; text-decoration-color: #00af00\">2304</span>)        │   <span style=\"color: #00af00; text-decoration-color: #00af00\">2,617,270,528</span> │ padding_mask[<span style=\"color: #00af00; text-decoration-color: #00af00\">0</span>][<span style=\"color: #00af00; text-decoration-color: #00af00\">0</span>],        │\n",
       "│ (<span style=\"color: #0087ff; text-decoration-color: #0087ff\">GemmaBackbone</span>)               │                           │                 │ token_ids[<span style=\"color: #00af00; text-decoration-color: #00af00\">0</span>][<span style=\"color: #00af00; text-decoration-color: #00af00\">0</span>]            │\n",
       "├───────────────────────────────┼───────────────────────────┼─────────────────┼────────────────────────────┤\n",
       "│ token_embedding               │ (<span style=\"color: #00d7ff; text-decoration-color: #00d7ff\">None</span>, <span style=\"color: #00d7ff; text-decoration-color: #00d7ff\">None</span>, <span style=\"color: #00af00; text-decoration-color: #00af00\">256000</span>)      │     <span style=\"color: #00af00; text-decoration-color: #00af00\">589,824,000</span> │ gemma_backbone[<span style=\"color: #00af00; text-decoration-color: #00af00\">0</span>][<span style=\"color: #00af00; text-decoration-color: #00af00\">0</span>]       │\n",
       "│ (<span style=\"color: #0087ff; text-decoration-color: #0087ff\">ReversibleEmbedding</span>)         │                           │                 │                            │\n",
       "└───────────────────────────────┴───────────────────────────┴─────────────────┴────────────────────────────┘\n",
       "</pre>\n"
      ],
      "text/plain": [
       "┏━━━━━━━━━━━━━━━━━━━━━━━━━━━━━━━┳━━━━━━━━━━━━━━━━━━━━━━━━━━━┳━━━━━━━━━━━━━━━━━┳━━━━━━━━━━━━━━━━━━━━━━━━━━━━┓\n",
       "┃\u001b[1m \u001b[0m\u001b[1mLayer (type)                 \u001b[0m\u001b[1m \u001b[0m┃\u001b[1m \u001b[0m\u001b[1mOutput Shape             \u001b[0m\u001b[1m \u001b[0m┃\u001b[1m \u001b[0m\u001b[1m        Param #\u001b[0m\u001b[1m \u001b[0m┃\u001b[1m \u001b[0m\u001b[1mConnected to              \u001b[0m\u001b[1m \u001b[0m┃\n",
       "┡━━━━━━━━━━━━━━━━━━━━━━━━━━━━━━━╇━━━━━━━━━━━━━━━━━━━━━━━━━━━╇━━━━━━━━━━━━━━━━━╇━━━━━━━━━━━━━━━━━━━━━━━━━━━━┩\n",
       "│ padding_mask (\u001b[38;5;33mInputLayer\u001b[0m)     │ (\u001b[38;5;45mNone\u001b[0m, \u001b[38;5;45mNone\u001b[0m)              │               \u001b[38;5;34m0\u001b[0m │ -                          │\n",
       "├───────────────────────────────┼───────────────────────────┼─────────────────┼────────────────────────────┤\n",
       "│ token_ids (\u001b[38;5;33mInputLayer\u001b[0m)        │ (\u001b[38;5;45mNone\u001b[0m, \u001b[38;5;45mNone\u001b[0m)              │               \u001b[38;5;34m0\u001b[0m │ -                          │\n",
       "├───────────────────────────────┼───────────────────────────┼─────────────────┼────────────────────────────┤\n",
       "│ gemma_backbone                │ (\u001b[38;5;45mNone\u001b[0m, \u001b[38;5;45mNone\u001b[0m, \u001b[38;5;34m2304\u001b[0m)        │   \u001b[38;5;34m2,617,270,528\u001b[0m │ padding_mask[\u001b[38;5;34m0\u001b[0m][\u001b[38;5;34m0\u001b[0m],        │\n",
       "│ (\u001b[38;5;33mGemmaBackbone\u001b[0m)               │                           │                 │ token_ids[\u001b[38;5;34m0\u001b[0m][\u001b[38;5;34m0\u001b[0m]            │\n",
       "├───────────────────────────────┼───────────────────────────┼─────────────────┼────────────────────────────┤\n",
       "│ token_embedding               │ (\u001b[38;5;45mNone\u001b[0m, \u001b[38;5;45mNone\u001b[0m, \u001b[38;5;34m256000\u001b[0m)      │     \u001b[38;5;34m589,824,000\u001b[0m │ gemma_backbone[\u001b[38;5;34m0\u001b[0m][\u001b[38;5;34m0\u001b[0m]       │\n",
       "│ (\u001b[38;5;33mReversibleEmbedding\u001b[0m)         │                           │                 │                            │\n",
       "└───────────────────────────────┴───────────────────────────┴─────────────────┴────────────────────────────┘\n"
      ]
     },
     "metadata": {},
     "output_type": "display_data"
    },
    {
     "data": {
      "text/html": [
       "<pre style=\"white-space:pre;overflow-x:auto;line-height:normal;font-family:Menlo,'DejaVu Sans Mono',consolas,'Courier New',monospace\"><span style=\"font-weight: bold\"> Total params: </span><span style=\"color: #00af00; text-decoration-color: #00af00\">2,617,270,528</span> (4.88 GB)\n",
       "</pre>\n"
      ],
      "text/plain": [
       "\u001b[1m Total params: \u001b[0m\u001b[38;5;34m2,617,270,528\u001b[0m (4.88 GB)\n"
      ]
     },
     "metadata": {},
     "output_type": "display_data"
    },
    {
     "data": {
      "text/html": [
       "<pre style=\"white-space:pre;overflow-x:auto;line-height:normal;font-family:Menlo,'DejaVu Sans Mono',consolas,'Courier New',monospace\"><span style=\"font-weight: bold\"> Trainable params: </span><span style=\"color: #00af00; text-decoration-color: #00af00\">2,928,640</span> (5.59 MB)\n",
       "</pre>\n"
      ],
      "text/plain": [
       "\u001b[1m Trainable params: \u001b[0m\u001b[38;5;34m2,928,640\u001b[0m (5.59 MB)\n"
      ]
     },
     "metadata": {},
     "output_type": "display_data"
    },
    {
     "data": {
      "text/html": [
       "<pre style=\"white-space:pre;overflow-x:auto;line-height:normal;font-family:Menlo,'DejaVu Sans Mono',consolas,'Courier New',monospace\"><span style=\"font-weight: bold\"> Non-trainable params: </span><span style=\"color: #00af00; text-decoration-color: #00af00\">2,614,341,888</span> (4.87 GB)\n",
       "</pre>\n"
      ],
      "text/plain": [
       "\u001b[1m Non-trainable params: \u001b[0m\u001b[38;5;34m2,614,341,888\u001b[0m (4.87 GB)\n"
      ]
     },
     "metadata": {},
     "output_type": "display_data"
    }
   ],
   "source": [
    "gemma2_2b_en.sequence_length = 512\n",
    "gemma2_2b_en.backbone.enable_lora(rank=4) \n",
    "\n",
    "gemma2_2b_en.summary()\n",
    "\n",
    "optimizer = tf.keras.optimizers.AdamW(\n",
    "    learning_rate=1e-5,\n",
    "    weight_decay=0.01,\n",
    ")\n",
    "\n",
    "optimizer.exclude_from_weight_decay(var_names=[\"bias\", \"scale\"])\n",
    "\n",
    "gemma2_2b_en.compile(optimizer=optimizer,\n",
    "                     loss=keras.losses.SparseCategoricalCrossentropy(from_logits=True),\n",
    "                     weighted_metrics=[keras.metrics.SparseCategoricalAccuracy()])"
   ]
  },
  {
   "cell_type": "markdown",
   "id": "2a77990e",
   "metadata": {
    "papermill": {
     "duration": 0.007587,
     "end_time": "2024-12-08T18:41:37.540593",
     "exception": false,
     "start_time": "2024-12-08T18:41:37.533006",
     "status": "completed"
    },
    "tags": []
   },
   "source": [
    "We preprocess the articles to remove HTML tags, website links, duplicate values, and other unnecessary elements. The cleaned data is then loaded into a pandas DataFrame and split into training and testing sets. This preprocessing helps reduce the loss function and improves the accuracy of the model."
   ]
  },
  {
   "cell_type": "code",
   "execution_count": 10,
   "id": "5a0e9e56",
   "metadata": {
    "execution": {
     "iopub.execute_input": "2024-12-08T18:41:37.557523Z",
     "iopub.status.busy": "2024-12-08T18:41:37.556740Z",
     "iopub.status.idle": "2024-12-08T18:41:39.541513Z",
     "shell.execute_reply": "2024-12-08T18:41:39.540774Z"
    },
    "papermill": {
     "duration": 1.995364,
     "end_time": "2024-12-08T18:41:39.543596",
     "exception": false,
     "start_time": "2024-12-08T18:41:37.548232",
     "status": "completed"
    },
    "tags": []
   },
   "outputs": [],
   "source": [
    "MarathiData=pd.read_csv('/kaggle/input/marathi-new-article-dataset/Marathi_dataset.csv')"
   ]
  },
  {
   "cell_type": "markdown",
   "id": "083cd92b",
   "metadata": {
    "papermill": {
     "duration": 0.007754,
     "end_time": "2024-12-08T18:41:39.559846",
     "exception": false,
     "start_time": "2024-12-08T18:41:39.552092",
     "status": "completed"
    },
    "tags": []
   },
   "source": [
    "We split the data part into the train and test to train the model and make it more better then previos version"
   ]
  },
  {
   "cell_type": "code",
   "execution_count": 11,
   "id": "e5983fef",
   "metadata": {
    "execution": {
     "iopub.execute_input": "2024-12-08T18:41:39.576806Z",
     "iopub.status.busy": "2024-12-08T18:41:39.576526Z",
     "iopub.status.idle": "2024-12-08T18:41:39.583625Z",
     "shell.execute_reply": "2024-12-08T18:41:39.582890Z"
    },
    "papermill": {
     "duration": 0.017555,
     "end_time": "2024-12-08T18:41:39.585310",
     "exception": false,
     "start_time": "2024-12-08T18:41:39.567755",
     "status": "completed"
    },
    "tags": []
   },
   "outputs": [],
   "source": [
    "Train_data=MarathiData['sentence'][:50_000]"
   ]
  },
  {
   "cell_type": "markdown",
   "id": "0588ba57",
   "metadata": {
    "papermill": {
     "duration": 0.007857,
     "end_time": "2024-12-08T18:41:39.601132",
     "exception": false,
     "start_time": "2024-12-08T18:41:39.593275",
     "status": "completed"
    },
    "tags": []
   },
   "source": [
    "##### The purpose of this code is to monitor the training process and automatically stop training once the model reaches an accuracy of 95%. This can save time and computational resources by preventing unnecessary training beyond the desired accuracy threshold."
   ]
  },
  {
   "cell_type": "code",
   "execution_count": 12,
   "id": "af7bb4bd",
   "metadata": {
    "execution": {
     "iopub.execute_input": "2024-12-08T18:41:39.618641Z",
     "iopub.status.busy": "2024-12-08T18:41:39.618411Z",
     "iopub.status.idle": "2024-12-08T18:41:39.622782Z",
     "shell.execute_reply": "2024-12-08T18:41:39.622112Z"
    },
    "papermill": {
     "duration": 0.014497,
     "end_time": "2024-12-08T18:41:39.624258",
     "exception": false,
     "start_time": "2024-12-08T18:41:39.609761",
     "status": "completed"
    },
    "tags": []
   },
   "outputs": [],
   "source": [
    "class MyCallBack(tf.keras.callbacks.Callback):\n",
    "    def on_epoch_end(self, epoch, logs={}):\n",
    "        if (logs.get('sparse_categorical_accuracy')>.97):\n",
    "            print(f\"\\nReached 95% accuracy so cancelling training!\")\n",
    "            self.model.stop_training=True\n",
    "callback=MyCallBack()"
   ]
  },
  {
   "cell_type": "markdown",
   "id": "536a426d",
   "metadata": {
    "papermill": {
     "duration": 0.007491,
     "end_time": "2024-12-08T18:41:39.639593",
     "exception": false,
     "start_time": "2024-12-08T18:41:39.632102",
     "status": "completed"
    },
    "tags": []
   },
   "source": [
    "### Let's run fit the model in marathi text and much more understabel"
   ]
  },
  {
   "cell_type": "code",
   "execution_count": 13,
   "id": "d2fba072",
   "metadata": {
    "execution": {
     "iopub.execute_input": "2024-12-08T18:41:39.656538Z",
     "iopub.status.busy": "2024-12-08T18:41:39.656020Z",
     "iopub.status.idle": "2024-12-09T04:54:20.064229Z",
     "shell.execute_reply": "2024-12-09T04:54:20.063381Z"
    },
    "papermill": {
     "duration": 36760.418978,
     "end_time": "2024-12-09T04:54:20.066237",
     "exception": false,
     "start_time": "2024-12-08T18:41:39.647259",
     "status": "completed"
    },
    "tags": []
   },
   "outputs": [
    {
     "name": "stderr",
     "output_type": "stream",
     "text": [
      "W0000 00:00:1733683350.986270      83 assert_op.cc:38] Ignoring Assert operator compile_loss/sparse_categorical_crossentropy/SparseSoftmaxCrossEntropyWithLogits/assert_equal_1/Assert/Assert\n",
      "WARNING: All log messages before absl::InitializeLog() is called are written to STDERR\n",
      "I0000 00:00:1733683359.762458     152 asm_compiler.cc:369] ptxas warning : Registers are spilled to local memory in function 'triton_gemm_dot_2180', 8 bytes spill stores, 4 bytes spill loads\n",
      "\n",
      "I0000 00:00:1733683360.941581     153 asm_compiler.cc:369] ptxas warning : Registers are spilled to local memory in function 'triton_gemm_dot_2181', 8 bytes spill stores, 4 bytes spill loads\n",
      "\n"
     ]
    },
    {
     "name": "stdout",
     "output_type": "stream",
     "text": [
      "\u001b[1m50000/50000\u001b[0m \u001b[32m━━━━━━━━━━━━━━━━━━━━\u001b[0m\u001b[37m\u001b[0m \u001b[1m36760s\u001b[0m 733ms/step - loss: 0.3374 - sparse_categorical_accuracy: 0.4473\n"
     ]
    },
    {
     "data": {
      "text/plain": [
       "<keras.src.callbacks.history.History at 0x7e7ea836efb0>"
      ]
     },
     "execution_count": 13,
     "metadata": {},
     "output_type": "execute_result"
    }
   ],
   "source": [
    "gemma2_2b_en.fit(x=Train_data, epochs=1, batch_size=1, callbacks=[callback])"
   ]
  },
  {
   "cell_type": "markdown",
   "id": "914b8fd0",
   "metadata": {
    "papermill": {
     "duration": 2.571453,
     "end_time": "2024-12-09T04:54:25.185911",
     "exception": false,
     "start_time": "2024-12-09T04:54:22.614458",
     "status": "completed"
    },
    "tags": []
   },
   "source": [
    "### Now we save the model get the better in marathi language "
   ]
  },
  {
   "cell_type": "code",
   "execution_count": 14,
   "id": "4b548de4",
   "metadata": {
    "execution": {
     "iopub.execute_input": "2024-12-09T04:54:30.275488Z",
     "iopub.status.busy": "2024-12-09T04:54:30.275083Z",
     "iopub.status.idle": "2024-12-09T04:54:51.346944Z",
     "shell.execute_reply": "2024-12-09T04:54:51.345879Z"
    },
    "papermill": {
     "duration": 23.653988,
     "end_time": "2024-12-09T04:54:51.349193",
     "exception": false,
     "start_time": "2024-12-09T04:54:27.695205",
     "status": "completed"
    },
    "tags": []
   },
   "outputs": [],
   "source": [
    "gemma2_2b_en.save('gemma2_2b_mr.keras', include_optimizer=True)"
   ]
  },
  {
   "cell_type": "markdown",
   "id": "5fa72688",
   "metadata": {
    "papermill": {
     "duration": 2.70177,
     "end_time": "2024-12-09T04:54:56.822659",
     "exception": false,
     "start_time": "2024-12-09T04:54:54.120889",
     "status": "completed"
    },
    "tags": []
   },
   "source": [
    "### **After train** of the model output with repect to this input or different input of prompt"
   ]
  },
  {
   "cell_type": "code",
   "execution_count": 15,
   "id": "d637ca57",
   "metadata": {
    "execution": {
     "iopub.execute_input": "2024-12-09T04:55:02.421587Z",
     "iopub.status.busy": "2024-12-09T04:55:02.421199Z",
     "iopub.status.idle": "2024-12-09T04:56:01.698815Z",
     "shell.execute_reply": "2024-12-09T04:56:01.697828Z"
    },
    "papermill": {
     "duration": 64.65455,
     "end_time": "2024-12-09T04:56:04.253670",
     "exception": false,
     "start_time": "2024-12-09T04:54:59.599120",
     "status": "completed"
    },
    "tags": []
   },
   "outputs": [
    {
     "data": {
      "text/plain": [
       "'tell me how photosynthesis work in marathi language.\\n\\n**पणासाचे प्रकाशसंश्लेषण**\\n\\nपणासाचे प्रकाशसंश्लेषण हा एक महत्त्वाचा प्रक्रिया आहे ज्यात पणासाचे सूर्यप्रकाश वापरून त्यांच्यासाठी खूपच आवश्यक पोषक तत्वे तयार करतात. या प्रक्रियात, पणासाचे सूर्यप्रकाश, जल आणि कार्बन डाइऑक्साइड वापरून, त्यांच्यासाठी खूपच आवश्यक पोषक तत्वे तयार करतात. \\n\\n**प्रक्रिया:**\\n\\n1. **सूर्यप्रकाश:** पणासाच्या पाद्यांमध्ये सूर्यप्रकाश पडतो.\\n2. **जल आणि कार्बन डाइऑक्साइड:** पणासाच्या पाद्यांमध्ये जल आणि कार्बन डाइऑक्साइड येतात.\\n3. **प्रकाशसंश्लेषण:** सूर्यप्रकाश, जल आणि कार्बन डाइऑक्साइड वापरून पणासाच्या पाद्यांमध्ये पोषक तत्वे तयार करतात.\\n\\n**पोषक तत्वे:**\\n\\n* **ऑक्सीजन:** पणासाच्या पाद्यांमध्ये ऑक्सीजन तयार होतो.\\n* **कार्बन डाइऑक्साइड:** पणासाच्या पाद्यांमध्ये कार्बन डाइऑक्साइड वापरून पोषक तत्वे तयार करतात.\\n* **पोटेशियम:** पणासाच्या पाद्यांमध्ये पोटेशियम तयार होतो.\\n* **न्यूट्रिएंट:** पणासाच्या पाद्यांमध्ये न्यूट्रिएंट तयार होतो.\\n\\n**उपयोग:**\\n\\n* पणासाच्या पाद्यांमध्ये पोषक तत्वे तयार करून त्यांच्यासाठी खूपच आवश्यक पोषक तत्वे तयार करतात.\\n* पणासाच्या पाद्यांमध्ये ऑक्सीजन तयार करून वायुमंडळातील ऑक्सीजन वाढवतात.\\n* पणासाच्या पाद्यांमध्ये कार्बन डाइऑक्साइड वापरून पोषक तत्वे तयार करून वायुमंडळातील कार्बन डाइऑक्साइड वाढवतात.\\n\\n**निष्कर्ष:**\\n\\nपणासाचे प्रकाशसंश्लेषण हा एक महत्त्वाचा प्रक्रिया आहे ज्यात पणासाचे सूर्यप्रकाश वापरून त्यांच्यासाठी खूपच आवश्यक पोषक तत्वे तयार करतात.\\n\\n\\n<end_of_turn>'"
      ]
     },
     "execution_count": 15,
     "metadata": {},
     "output_type": "execute_result"
    }
   ],
   "source": [
    "gemma2_2b_en.generate(\"tell me how photosynthesis work in marathi language\")"
   ]
  }
 ],
 "metadata": {
  "kaggle": {
   "accelerator": "nvidiaTeslaT4",
   "dataSources": [
    {
     "databundleVersionId": 9690815,
     "sourceId": 85416,
     "sourceType": "competition"
    },
    {
     "datasetId": 6201391,
     "sourceId": 10062898,
     "sourceType": "datasetVersion"
    },
    {
     "modelId": 78150,
     "modelInstanceId": 72246,
     "sourceId": 85986,
     "sourceType": "modelInstanceVersion"
    }
   ],
   "dockerImageVersionId": 30786,
   "isGpuEnabled": true,
   "isInternetEnabled": false,
   "language": "python",
   "sourceType": "notebook"
  },
  "kernelspec": {
   "display_name": "Python 3",
   "language": "python",
   "name": "python3"
  },
  "language_info": {
   "codemirror_mode": {
    "name": "ipython",
    "version": 3
   },
   "file_extension": ".py",
   "mimetype": "text/x-python",
   "name": "python",
   "nbconvert_exporter": "python",
   "pygments_lexer": "ipython3",
   "version": "3.12.4"
  },
  "papermill": {
   "default_parameters": {},
   "duration": 37759.761277,
   "end_time": "2024-12-09T04:56:10.630777",
   "environment_variables": {},
   "exception": null,
   "input_path": "__notebook__.ipynb",
   "output_path": "__notebook__.ipynb",
   "parameters": {},
   "start_time": "2024-12-08T18:26:50.869500",
   "version": "2.6.0"
  }
 },
 "nbformat": 4,
 "nbformat_minor": 5
}
